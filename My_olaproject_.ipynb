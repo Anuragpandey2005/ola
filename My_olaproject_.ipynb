{
  "nbformat": 4,
  "nbformat_minor": 0,
  "metadata": {
    "colab": {
      "private_outputs": true,
      "provenance": [],
      "authorship_tag": "ABX9TyOpMYK8iwjU0Bjr1N5yMWkU",
      "include_colab_link": true
    },
    "kernelspec": {
      "name": "python3",
      "display_name": "Python 3"
    },
    "language_info": {
      "name": "python"
    }
  },
  "cells": [
    {
      "cell_type": "markdown",
      "metadata": {
        "id": "view-in-github",
        "colab_type": "text"
      },
      "source": [
        "<a href=\"https://colab.research.google.com/github/Anuragpandey2005/ola/blob/main/My_olaproject_.ipynb\" target=\"_parent\"><img src=\"https://colab.research.google.com/assets/colab-badge.svg\" alt=\"Open In Colab\"/></a>"
      ]
    },
    {
      "cell_type": "code",
      "source": [
        "import pandas as pd"
      ],
      "metadata": {
        "id": "fHk4X7QhNi6U"
      },
      "execution_count": null,
      "outputs": []
    },
    {
      "cell_type": "code",
      "source": [
        "df= pd.read_csv(\"https://d2beiqkhq929f0.cloudfront.net/public_assets/assets/000/002/492/original/ola_driver_scaler.csv\")"
      ],
      "metadata": {
        "id": "Ju5o_qKrN1Sr"
      },
      "execution_count": null,
      "outputs": []
    },
    {
      "cell_type": "code",
      "source": [
        "df.head()"
      ],
      "metadata": {
        "id": "nz_ClKmwOCcP"
      },
      "execution_count": null,
      "outputs": []
    },
    {
      "cell_type": "code",
      "source": [
        "df[\"MMM-YY\"]=pd.to_datetime(df[\"MMM-YY\"], errors='coerce')"
      ],
      "metadata": {
        "id": "lK5MlTjHOD4a"
      },
      "execution_count": null,
      "outputs": []
    },
    {
      "cell_type": "code",
      "source": [
        "df"
      ],
      "metadata": {
        "id": "XZ2xqyjvOhox"
      },
      "execution_count": null,
      "outputs": []
    },
    {
      "cell_type": "code",
      "source": [
        "df.isnull().sum()/len(df) * 100"
      ],
      "metadata": {
        "id": "c4i24NXsCtSr"
      },
      "execution_count": null,
      "outputs": []
    },
    {
      "cell_type": "code",
      "source": [
        "df.nunique()"
      ],
      "metadata": {
        "id": "JnBj33kjD8wC"
      },
      "execution_count": null,
      "outputs": []
    },
    {
      "cell_type": "code",
      "source": [
        "df.info()"
      ],
      "metadata": {
        "id": "-l89T75fOsqR"
      },
      "execution_count": null,
      "outputs": []
    },
    {
      "cell_type": "code",
      "source": [
        "df.describe()"
      ],
      "metadata": {
        "id": "yBhaJDK1OzoF"
      },
      "execution_count": null,
      "outputs": []
    },
    {
      "cell_type": "code",
      "source": [
        "df.isna().sum()"
      ],
      "metadata": {
        "id": "TN_zWN_JO24v"
      },
      "execution_count": null,
      "outputs": []
    },
    {
      "cell_type": "code",
      "source": [
        "mean=df[\"Age\"].mean()\n",
        "df[\"Age\"]= df[\"Age\"].fillna(mean)"
      ],
      "metadata": {
        "id": "xgd6zqNGPMv8"
      },
      "execution_count": null,
      "outputs": []
    },
    {
      "cell_type": "code",
      "source": [
        "mode=df[\"Gender\"].mode()\n",
        "df[\"Gender\"]=df[\"Gender\"].fillna(mode[0])\n",
        "mode"
      ],
      "metadata": {
        "id": "sGAh07YmPkao"
      },
      "execution_count": null,
      "outputs": []
    },
    {
      "cell_type": "code",
      "source": [
        "df.isna().sum()"
      ],
      "metadata": {
        "id": "xhrdW9n8P1Wt"
      },
      "execution_count": null,
      "outputs": []
    },
    {
      "cell_type": "code",
      "source": [
        "import numpy as np\n",
        "\n",
        "df[\"Target\"] = np.where(df[\"LastWorkingDate\"].notna(), 1, 0)"
      ],
      "metadata": {
        "id": "R7tvVHIkQfqN"
      },
      "execution_count": null,
      "outputs": []
    },
    {
      "cell_type": "code",
      "source": [
        "df"
      ],
      "metadata": {
        "id": "c4CjPcOqQ5f_"
      },
      "execution_count": null,
      "outputs": []
    },
    {
      "cell_type": "code",
      "source": [
        "import seaborn as sns\n",
        "import matplotlib.pyplot as plt"
      ],
      "metadata": {
        "id": "KnAM6KkfRAbk"
      },
      "execution_count": null,
      "outputs": []
    },
    {
      "cell_type": "code",
      "source": [
        "sns.scatterplot(data=df,x=\"Income\",y=\"Age\",hue = \"Target\")"
      ],
      "metadata": {
        "id": "EGtt-Nt5RWKS"
      },
      "execution_count": null,
      "outputs": []
    },
    {
      "cell_type": "markdown",
      "source": [
        "* low income is related to driver churn , it can be observed from scaterplot\n"
      ],
      "metadata": {
        "id": "18YPMECH-qu4"
      }
    },
    {
      "cell_type": "code",
      "source": [
        "# Convert 'Dateofjoining' and 'LastWorkingDate' to datetime objects\n",
        "df[\"Dateofjoining\"] = pd.to_datetime(df[\"Dateofjoining\"], errors='coerce', format='%d/%m/%y')\n",
        "df[\"LastWorkingDate\"] = pd.to_datetime(df[\"LastWorkingDate\"], errors='coerce', format='%d/%m/%y')\n",
        "\n",
        "# This will result in a Timedelta object\n",
        "df[\"Tenure\"] = df[\"LastWorkingDate\"] - df[\"Dateofjoining\"]"
      ],
      "metadata": {
        "id": "UvUJ3mL5Rjhh"
      },
      "execution_count": null,
      "outputs": []
    },
    {
      "cell_type": "code",
      "source": [
        "df"
      ],
      "metadata": {
        "id": "I9OUHn6M3QDO"
      },
      "execution_count": null,
      "outputs": []
    },
    {
      "cell_type": "code",
      "source": [
        "df[df[\"Total Business Value\"]==0]"
      ],
      "metadata": {
        "id": "b2PXCz9n3oBe"
      },
      "execution_count": null,
      "outputs": []
    },
    {
      "cell_type": "code",
      "source": [
        "mean_income=df[\"Income\"].mean()\n",
        "mean_income"
      ],
      "metadata": {
        "id": "8IeJ1hfc63BE"
      },
      "execution_count": null,
      "outputs": []
    },
    {
      "cell_type": "code",
      "source": [
        "median_income =df[\"Income\"].median()\n",
        "median_income"
      ],
      "metadata": {
        "id": "v7M_IArt7N4o"
      },
      "execution_count": null,
      "outputs": []
    },
    {
      "cell_type": "code",
      "source": [
        "mode_income= df[\"Income\"].mode()\n",
        "mode_income"
      ],
      "metadata": {
        "id": "iNh7trHQ7fxW"
      },
      "execution_count": null,
      "outputs": []
    },
    {
      "cell_type": "code",
      "source": [
        "plt.figure(figsize=(12, 6))\n",
        "sns.countplot(data=df, x=\"City\", hue=\"Target\", palette=\"Set2\")\n",
        "plt.xticks(rotation=45, ha='right')\n",
        "plt.title(\"Comparison of Target 0 and 1 Counts per City\")\n",
        "plt.ylabel(\"Number of Drivers\")\n",
        "plt.xlabel(\"City\")\n",
        "plt.tight_layout()\n",
        "plt.show()"
      ],
      "metadata": {
        "id": "K0AO3hqw7zLX"
      },
      "execution_count": null,
      "outputs": []
    },
    {
      "cell_type": "markdown",
      "source": [
        "* c- 20 has more driver churn then average of other city combined"
      ],
      "metadata": {
        "id": "hay2Ha82-T2B"
      }
    },
    {
      "cell_type": "code",
      "source": [
        "sns.countplot(data=df,x=\"Target\")"
      ],
      "metadata": {
        "id": "MmfiFC3GtPsO"
      },
      "execution_count": null,
      "outputs": []
    },
    {
      "cell_type": "markdown",
      "source": [
        "* driver who does not left job is very much compare to who left so it is highly imbalanced"
      ],
      "metadata": {
        "id": "5dbhATsnta9C"
      }
    },
    {
      "cell_type": "code",
      "source": [
        "df"
      ],
      "metadata": {
        "id": "RzSIfiqH7_p0"
      },
      "execution_count": null,
      "outputs": []
    },
    {
      "cell_type": "code",
      "source": [
        "df.groupby(\"Driver_ID\")[\"MMM-YY\"].value_counts()"
      ],
      "metadata": {
        "id": "kmyD7CrrEPYO"
      },
      "execution_count": null,
      "outputs": []
    },
    {
      "cell_type": "code",
      "source": [
        "df_grouped=df.groupby(\"Education_Level\")[\"Income\"].median()"
      ],
      "metadata": {
        "id": "K6mtShEzRylb"
      },
      "execution_count": null,
      "outputs": []
    },
    {
      "cell_type": "code",
      "source": [
        "df_grouped"
      ],
      "metadata": {
        "id": "nG6Xxhu9SA_W"
      },
      "execution_count": null,
      "outputs": []
    },
    {
      "cell_type": "markdown",
      "source": [
        "* drivers with higher education_level have better income"
      ],
      "metadata": {
        "id": "JCwvjYtYUKm4"
      }
    },
    {
      "cell_type": "code",
      "source": [
        "df_grouped1=df.groupby(\"Education_Level\")[\"Target\"].sum()"
      ],
      "metadata": {
        "id": "CMMg_-W-SDDS"
      },
      "execution_count": null,
      "outputs": []
    },
    {
      "cell_type": "code",
      "source": [
        "df_grouped1"
      ],
      "metadata": {
        "id": "X4V-XNvbVAKk"
      },
      "execution_count": null,
      "outputs": []
    },
    {
      "cell_type": "markdown",
      "source": [
        "* their is no corellation between education level and driver attrition"
      ],
      "metadata": {
        "id": "BuBzVEnwY0mi"
      }
    },
    {
      "cell_type": "code",
      "source": [
        "dokha = df[df[\"Total Business Value\"] < 0].groupby(\"Target\").size()\n"
      ],
      "metadata": {
        "id": "nafwdUKoVL0-"
      },
      "execution_count": null,
      "outputs": []
    },
    {
      "cell_type": "code",
      "source": [
        "dokha"
      ],
      "metadata": {
        "id": "YbRXIFXwcx2M"
      },
      "execution_count": null,
      "outputs": []
    },
    {
      "cell_type": "code",
      "source": [
        "dokha_sum = df[df[\"Total Business Value\"] < 0].groupby(\"Target\")[[\"Total Business Value\"]].sum()"
      ],
      "metadata": {
        "id": "hW06NB14dXNT"
      },
      "execution_count": null,
      "outputs": []
    },
    {
      "cell_type": "markdown",
      "source": [
        "*  output suggest the their is high probability the driver with negative business value greater than 4 lakh will not leave the job.\n",
        "* output also suggest the their is high probability the driver with negative business value less than 2.5 lakh will  leave the job."
      ],
      "metadata": {
        "id": "bAIMfCc5dLfV"
      }
    },
    {
      "cell_type": "code",
      "source": [
        "df_grouped_mean_income=df.groupby(\"Target\")[\"Income\"].mean()\n",
        "df_grouped_mean_income"
      ],
      "metadata": {
        "id": "EwloAUMgczZk"
      },
      "execution_count": null,
      "outputs": []
    },
    {
      "cell_type": "code",
      "source": [
        "df_grouped_median_income=df.groupby(\"Target\")[\"Income\"].median()\n",
        "df_grouped_median_income"
      ],
      "metadata": {
        "id": "L5_pLjyZe6dR"
      },
      "execution_count": null,
      "outputs": []
    },
    {
      "cell_type": "markdown",
      "source": [
        "* The driver with income less the 10000 of avrrage income of ola driver have very high probability to leave the their job\n",
        "* the company need to focus on driver with income less than 10000 of average income on ola drivers.\n"
      ],
      "metadata": {
        "id": "NdgDrK69fQWn"
      }
    },
    {
      "cell_type": "code",
      "source": [
        "sns.lineplot(data=df,x=\"Age\",y=\"Income\",hue=\"Target\")"
      ],
      "metadata": {
        "id": "ycmQPJN_fI_p"
      },
      "execution_count": null,
      "outputs": []
    },
    {
      "cell_type": "markdown",
      "source": [
        ":\n",
        "\n",
        "# Key Insights from the Chart\n",
        "1. Overall Trend\n",
        "Income increases with age for both churned and retained drivers until mid-40s.\n",
        "\n",
        "There's a slight drop beyond age ~50, likely due to fewer drivers or semi-retirement.\n",
        "\n",
        "2. Churned vs Not Churned\n",
        "Non-churned drivers (Target = 0) consistently earn higher income than churned drivers across most age groups.\n",
        "\n",
        "The gap is especially visible from age 30 to 50.\n",
        "\n",
        "Churned drivers (Target = 1) have a flatter income growth curve — suggesting lower income may be a churn signal.\n",
        "\n",
        "3. Income Stability\n",
        "Non-churned group shows tighter shaded bands (lower variance) ⇒ more stable income.\n",
        "\n",
        "Churned group shows wider bands ⇒ income instability, which may contribute to churn.\n",
        "\n",
        "4. Sharp Spikes and Drops\n",
        "The spike at age ~55 for non-churned might be an outlier (few drivers with very high income).\n",
        "\n",
        "Drop after age 55 could be due to small sample size — worth flagging"
      ],
      "metadata": {
        "id": "Xpq8SLjuBdOJ"
      }
    },
    {
      "cell_type": "code",
      "source": [
        "df"
      ],
      "metadata": {
        "id": "SVsfO90nBFFC"
      },
      "execution_count": null,
      "outputs": []
    },
    {
      "cell_type": "code",
      "source": [
        "df[\"LastWorkingDate\"].dt.year.notna()"
      ],
      "metadata": {
        "id": "Ajqo7pTZGNmq"
      },
      "execution_count": null,
      "outputs": []
    },
    {
      "cell_type": "code",
      "source": [
        "from sklearn.model_selection import train_test_split"
      ],
      "metadata": {
        "id": "We0FXc41HBoY"
      },
      "execution_count": null,
      "outputs": []
    },
    {
      "cell_type": "code",
      "source": [
        "df"
      ],
      "metadata": {
        "id": "LhdbtqR3pjee"
      },
      "execution_count": null,
      "outputs": []
    },
    {
      "cell_type": "code",
      "source": [
        "df[\"LastWorkingDate\"].fillna(0)"
      ],
      "metadata": {
        "id": "iFmZ5qoZp1v0"
      },
      "execution_count": null,
      "outputs": []
    },
    {
      "cell_type": "code",
      "source": [
        "end_date = pd.to_datetime(\"2020-12-31\")\n",
        "# Calculate tenure for those who haven't left (where LastWorkingDate is NaN)\n",
        "# and fill the NaN values in the 'Tenure' column\n",
        "df[\"Tenure\"] = df[\"Tenure\"].fillna(end_date - df[\"Dateofjoining\"])"
      ],
      "metadata": {
        "id": "qEZJBGD3p56C"
      },
      "execution_count": null,
      "outputs": []
    },
    {
      "cell_type": "code",
      "source": [
        "df[\"LastWorkingDate\"]= df[\"LastWorkingDate\"].fillna(0)"
      ],
      "metadata": {
        "id": "X6qJs38NjQ2t"
      },
      "execution_count": null,
      "outputs": []
    },
    {
      "cell_type": "code",
      "source": [
        "df"
      ],
      "metadata": {
        "id": "hn2JULY6jZvQ"
      },
      "execution_count": null,
      "outputs": []
    },
    {
      "cell_type": "code",
      "source": [
        "from sklearn.preprocessing import OneHotEncoder"
      ],
      "metadata": {
        "id": "MzJPC5ZrkBfx"
      },
      "execution_count": null,
      "outputs": []
    },
    {
      "cell_type": "code",
      "source": [
        "df_encoded = pd.get_dummies(df, columns=[\"City\",\"Education_Level\"])"
      ],
      "metadata": {
        "id": "SaiH4q0hny8F"
      },
      "execution_count": null,
      "outputs": []
    },
    {
      "cell_type": "code",
      "metadata": {
        "id": "be5dcd0e"
      },
      "source": [
        "# Initialize the OneHotEncoder\n",
        "df=df_encoded"
      ],
      "execution_count": null,
      "outputs": []
    },
    {
      "cell_type": "code",
      "source": [
        "df=df.drop([\"MMM-YY\",\"Dateofjoining\",\"LastWorkingDate\"],axis=1)"
      ],
      "metadata": {
        "id": "RF306gd1oXDf"
      },
      "execution_count": null,
      "outputs": []
    },
    {
      "cell_type": "code",
      "source": [
        "df"
      ],
      "metadata": {
        "id": "36Hgf5IxqK-5"
      },
      "execution_count": null,
      "outputs": []
    },
    {
      "cell_type": "code",
      "source": [
        "# Convert 'Tenure' to numerical (number of days)\n",
        "df['Tenure'] = df['Tenure'].dt.days\n",
        "# Features and target\n",
        "x = df[[\"Age\", \"Gender\", \"Income\", \"Joining Designation\", \"Grade\", \"Total Business Value\", \"Quarterly Rating\", \"Tenure\"]]\n",
        "y = df[\"Target\"]\n"
      ],
      "metadata": {
        "id": "QCPiy2Tfrk6y"
      },
      "execution_count": null,
      "outputs": []
    },
    {
      "cell_type": "code",
      "source": [
        "from imblearn.over_sampling import SMOTE"
      ],
      "metadata": {
        "id": "iFFuQ21jxjtq"
      },
      "execution_count": null,
      "outputs": []
    },
    {
      "cell_type": "code",
      "source": [
        "x_train, x_test, y_train, y_test = train_test_split(x, y, test_size=0.3, random_state=42)\n"
      ],
      "metadata": {
        "id": "iA-FzNQqsji5"
      },
      "execution_count": null,
      "outputs": []
    },
    {
      "cell_type": "code",
      "source": [
        "smote = SMOTE(random_state=42)\n",
        "x_train_resampled, y_train_resampled = smote.fit_resample(x_train, y_train)"
      ],
      "metadata": {
        "id": "fIJAoPoYzuI5"
      },
      "execution_count": null,
      "outputs": []
    },
    {
      "cell_type": "code",
      "source": [
        "from sklearn.linear_model import LogisticRegression"
      ],
      "metadata": {
        "id": "Y7jlHpCVuBhJ"
      },
      "execution_count": null,
      "outputs": []
    },
    {
      "cell_type": "code",
      "source": [
        "model= LogisticRegression()"
      ],
      "metadata": {
        "id": "j8mTJkQ9u6bj"
      },
      "execution_count": null,
      "outputs": []
    },
    {
      "cell_type": "code",
      "source": [
        "from sklearn.preprocessing import OneHotEncoder\n",
        "from sklearn.compose import ColumnTransformer\n",
        "from sklearn.metrics import classification_report\n",
        "categorical_cols = [\"Gender\", \"Grade\"]\n",
        "numerical_cols = [\"Age\", \"Income\", \"Joining Designation\", \"Total Business Value\", \"Quarterly Rating\", \"Tenure\"]\n",
        "\n",
        "x_train, x_test, y_train, y_test = train_test_split(x, y, test_size=0.3, random_state=42)\n",
        "\n",
        "# Preprocessor: One-hot encode categorical columns\n",
        "preprocessor = ColumnTransformer(\n",
        "    transformers=[\n",
        "        (\"cat\", OneHotEncoder(drop=\"first\"), categorical_cols)\n",
        "    ],\n",
        "    remainder=\"passthrough\"  # keep numerical columns as-is\n",
        ")\n",
        "model = LogisticRegression()\n",
        "model.fit(x_train, y_train)\n",
        "y_pred = model.predict(x_test)\n",
        "print(classification_report(y_test, y_pred))\n"
      ],
      "metadata": {
        "id": "Qlx5j0KRvPsb"
      },
      "execution_count": null,
      "outputs": []
    },
    {
      "cell_type": "code",
      "source": [
        "model.fit(x_train_resampled, y_train_resampled)\n",
        "\n",
        "# Evaluate\n",
        "y_pred = model.predict(x_test)\n",
        "print(classification_report(y_test, y_pred))\n"
      ],
      "metadata": {
        "id": "w2sYBPmMz_dU"
      },
      "execution_count": null,
      "outputs": []
    },
    {
      "cell_type": "code",
      "source": [
        "from sklearn.metrics import f1_score\n",
        "\n",
        "# Predict on test set\n",
        "y_pred = model.predict(x_test)\n",
        "\n",
        "# Calculate F1 Score\n",
        "f1 = f1_score(y_test, y_pred, average='binary')  # use 'macro', 'micro', or 'weighted' for multiclass\n",
        "print(\"F1 Score:\", f1)\n"
      ],
      "metadata": {
        "id": "lyNF8CFAwCvr"
      },
      "execution_count": null,
      "outputs": []
    },
    {
      "cell_type": "code",
      "source": [
        "from sklearn.ensemble import RandomForestClassifier"
      ],
      "metadata": {
        "id": "3-sVXWE90Dov"
      },
      "execution_count": null,
      "outputs": []
    },
    {
      "cell_type": "code",
      "source": [
        "model= RandomForestClassifier(random_state = 42)"
      ],
      "metadata": {
        "id": "PZBkXy2IbpGv"
      },
      "execution_count": null,
      "outputs": []
    },
    {
      "cell_type": "code",
      "source": [
        "model.fit(x_train_resampled, y_train_resampled)"
      ],
      "metadata": {
        "id": "KMwKmVLob2RA"
      },
      "execution_count": null,
      "outputs": []
    },
    {
      "cell_type": "code",
      "source": [
        "y_pred = model.predict(x_test)\n",
        "print(classification_report(y_test, y_pred))\n",
        "\n",
        "y_pred = model.predict(x_test)\n",
        "\n",
        "# Calculate F1 Score\n",
        "f1 = f1_score(y_test, y_pred, average='binary')  # use 'macro', 'micro', or 'weighted' for multiclass\n",
        "print(\"F1 Score:\", f1)"
      ],
      "metadata": {
        "id": "PH4y_8ULb-Nn"
      },
      "execution_count": null,
      "outputs": []
    },
    {
      "cell_type": "code",
      "source": [],
      "metadata": {
        "id": "ZyV4X74vjkGN"
      },
      "execution_count": null,
      "outputs": []
    },
    {
      "cell_type": "code",
      "metadata": {
        "id": "255a1bdd"
      },
      "source": [
        "!pip install xgboost"
      ],
      "execution_count": null,
      "outputs": []
    },
    {
      "cell_type": "code",
      "metadata": {
        "id": "f339328b"
      },
      "source": [
        "from xgboost import XGBClassifier"
      ],
      "execution_count": null,
      "outputs": []
    },
    {
      "cell_type": "code",
      "source": [
        "model=XGBClassifier()"
      ],
      "metadata": {
        "id": "-9FAJUbakCng"
      },
      "execution_count": null,
      "outputs": []
    },
    {
      "cell_type": "code",
      "source": [
        "model.fit(x_train_resampled, y_train_resampled)"
      ],
      "metadata": {
        "id": "6SWD-gFzkIdS"
      },
      "execution_count": null,
      "outputs": []
    },
    {
      "cell_type": "code",
      "source": [
        "y_pred = model.predict(x_test)\n",
        "print(classification_report(y_test, y_pred))\n",
        "\n",
        "y_pred = model.predict(x_test)\n",
        "\n",
        "# Calculate F1 Score\n",
        "f1 = f1_score(y_test, y_pred, average='binary')  # use 'macro', 'micro', or 'weighted' for multiclass\n",
        "print(\"F1 Score:\", f1)"
      ],
      "metadata": {
        "id": "7RP7wxv_kM7j"
      },
      "execution_count": null,
      "outputs": []
    },
    {
      "cell_type": "code",
      "source": [
        "import matplotlib.pyplot as plt\n",
        "from sklearn.metrics import roc_curve, roc_auc_score\n",
        "\n",
        "\n",
        "# Train Logistic Regression\n",
        "log_model = LogisticRegression(max_iter=1000)\n",
        "log_model.fit(x_train_resampled, y_train_resampled)\n",
        "log_proba = log_model.predict_proba(x_test)[:, 1]\n",
        "\n",
        "# Train Random Forest\n",
        "rf_model = RandomForestClassifier(n_estimators=100, random_state=42)\n",
        "rf_model.fit(x_train_resampled, y_train_resampled)\n",
        "rf_proba = rf_model.predict_proba(x_test)[:, 1]\n",
        "\n",
        "# Train XGBoost\n",
        "xgb_model = XGBClassifier(use_label_encoder=False, eval_metric='logloss')\n",
        "xgb_model.fit(x_train_resampled, y_train_resampled)\n",
        "xgb_proba = xgb_model.predict_proba(x_test)[:, 1]\n",
        "\n",
        "# Compute FPR, TPR for each model\n",
        "fpr_log, tpr_log, _ = roc_curve(y_test, log_proba)\n",
        "fpr_rf, tpr_rf, _ = roc_curve(y_test, rf_proba)\n",
        "fpr_xgb, tpr_xgb, _ = roc_curve(y_test, xgb_proba)\n",
        "\n",
        "# AUC Scores\n",
        "auc_log = roc_auc_score(y_test, log_proba)\n",
        "auc_rf = roc_auc_score(y_test, rf_proba)\n",
        "auc_xgb = roc_auc_score(y_test, xgb_proba)\n",
        "\n",
        "# Plot\n",
        "plt.figure(figsize=(10, 7))\n",
        "plt.plot(fpr_log, tpr_log, label=f\"Logistic (AUC = {auc_log:.2f})\")\n",
        "plt.plot(fpr_rf, tpr_rf, label=f\"Random Forest (AUC = {auc_rf:.2f})\")\n",
        "plt.plot(fpr_xgb, tpr_xgb, label=f\"XGBoost (AUC = {auc_xgb:.2f})\")\n",
        "plt.plot([0, 1], [0, 1], 'k--')  # diagonal\n",
        "plt.xlabel(\"False Positive Rate\")\n",
        "plt.ylabel(\"True Positive Rate\")\n",
        "plt.title(\"ROC Curve Comparison\")\n",
        "plt.legend()\n",
        "plt.grid(True)\n",
        "plt.show()\n"
      ],
      "metadata": {
        "id": "qibVB1rKkUo3"
      },
      "execution_count": null,
      "outputs": []
    },
    {
      "cell_type": "code",
      "source": [],
      "metadata": {
        "id": "O0EtDeJrT8DO"
      },
      "execution_count": null,
      "outputs": []
    },
    {
      "cell_type": "code",
      "source": [],
      "metadata": {
        "id": "_J1DEvdWCpEu"
      },
      "execution_count": null,
      "outputs": []
    }
  ]
}